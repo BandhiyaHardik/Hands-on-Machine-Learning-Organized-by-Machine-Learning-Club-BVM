{
  "cells": [
    {
      "cell_type": "markdown",
      "metadata": {
        "id": "2MQVSv8hhpmq"
      },
      "source": [
        "# 🧑‍💻 ML Club – Week 1: The Bridge to ML\n",
        "Welcome to the first session of our Peer-to-Peer ML Learning Camp!\n",
        "\n",
        "## 📌 Agenda:\n",
        "- Introduction to ML & datasets\n",
        "- Exploring data with **Pandas**\n",
        "- Math with **NumPy**\n",
        "- Working with a real dataset (CSV)\n",
        "- Visualizing data with **Matplotlib**\n",
        "\n",
        "---"
      ]
    },
    {
      "cell_type": "code",
      "source": [],
      "metadata": {
        "id": "WCHMLm6XhuIM"
      },
      "execution_count": null,
      "outputs": []
    },
    {
      "cell_type": "markdown",
      "metadata": {
        "id": "JoQqHsbOhpmz"
      },
      "source": [
        "## 🔹 1. Pandas – Exploring Data\n",
        "Pandas helps us load and explore data in a tabular format (like Excel but with code)."
      ]
    },
    {
      "cell_type": "code",
      "execution_count": null,
      "metadata": {
        "id": "sIkYb9Pbhpm1",
        "colab": {
          "base_uri": "https://localhost:8080/"
        },
        "outputId": "c65e8511-6aaf-409b-feb7-93481e8ccaff"
      },
      "outputs": [
        {
          "output_type": "stream",
          "name": "stdout",
          "text": [
            "Dataset:\n",
            "    Hours_Studied  Marks\n",
            "0              1     35\n",
            "1              2     50\n",
            "2              3     60\n",
            "3              4     70\n",
            "4              5     75\n",
            "5              6     85\n",
            "\n",
            "First 5 rows:\n",
            "    Hours_Studied  Marks\n",
            "0              1     35\n",
            "1              2     50\n",
            "2              3     60\n",
            "3              4     70\n",
            "4              5     75\n",
            "\n",
            "Info:\n",
            "\n",
            "<class 'pandas.core.frame.DataFrame'>\n",
            "RangeIndex: 6 entries, 0 to 5\n",
            "Data columns (total 2 columns):\n",
            " #   Column         Non-Null Count  Dtype\n",
            "---  ------         --------------  -----\n",
            " 0   Hours_Studied  6 non-null      int64\n",
            " 1   Marks          6 non-null      int64\n",
            "dtypes: int64(2)\n",
            "memory usage: 228.0 bytes\n",
            "None\n",
            "\n",
            "Summary:\n",
            "        Hours_Studied      Marks\n",
            "count       6.000000   6.000000\n",
            "mean        3.500000  62.500000\n",
            "std         1.870829  18.096961\n",
            "min         1.000000  35.000000\n",
            "25%         2.250000  52.500000\n",
            "50%         3.500000  65.000000\n",
            "75%         4.750000  73.750000\n",
            "max         6.000000  85.000000\n",
            "\n",
            "colums:\n",
            " Index(['Hours_Studied', 'Marks'], dtype='object')\n"
          ]
        }
      ],
      "source": [
        "import pandas as pd\n",
        "\n",
        "# Create simple dataset\n",
        "data = {'Hours_Studied':[1,2,3,4,5,6],\n",
        "        'Marks':[35,50,60,70,75,85]}\n",
        "df = pd.DataFrame(data)\n",
        "\n",
        "print(\"Dataset:\\n\", df)\n",
        "print(\"\\nFirst 5 rows:\\n\", df.head())\n",
        "print(\"\\nInfo:\\n\")\n",
        "print(df.info())\n",
        "print(\"\\nSummary:\\n\", df.describe())\n",
        "print(\"\\ncolums:\\n\", df.columns)"
      ]
    },
    {
      "cell_type": "markdown",
      "metadata": {
        "id": "tXHmCaswhpm4"
      },
      "source": [
        "## 🔹 2. NumPy – Math for ML\n",
        "NumPy allows us to perform fast mathematical operations on arrays."
      ]
    },
    {
      "cell_type": "code",
      "execution_count": null,
      "metadata": {
        "id": "HMcbE9a8hpm5",
        "colab": {
          "base_uri": "https://localhost:8080/"
        },
        "outputId": "3a633436-7bf8-493e-93c4-670718be29cb"
      },
      "outputs": [
        {
          "output_type": "stream",
          "name": "stdout",
          "text": [
            "Array: [10 20 30 40 50]\n",
            "Mean: 30.0\n",
            "Median: 30.0\n",
            "Standard Deviation: 14.142135623730951\n",
            "Array + 5: [15 25 35 45 55]\n",
            "Array squared: [ 100  400  900 1600 2500]\n"
          ]
        }
      ],
      "source": [
        "import numpy as np\n",
        "\n",
        "arr = np.array([10, 20, 30, 40, 50])\n",
        "print(\"Array:\", arr)\n",
        "print(\"Mean:\", np.mean(arr))\n",
        "print(\"Median:\", np.median(arr))\n",
        "print(\"Standard Deviation:\", np.std(arr))\n",
        "print(\"Array + 5:\", arr + 5)\n",
        "print(\"Array squared:\", arr**2)"
      ]
    },
    {
      "cell_type": "markdown",
      "metadata": {
        "id": "ro4Wshishpm5"
      },
      "source": [
        "## 🔹 3. Real Dataset Exploration\n",
        "Now let’s explore a real dataset – Student Scores."
      ]
    },
    {
      "cell_type": "code",
      "execution_count": null,
      "metadata": {
        "id": "4wwGdCR4hpm6",
        "colab": {
          "base_uri": "https://localhost:8080/"
        },
        "outputId": "cede1737-3188-49b8-d4b8-0305d8c76a40"
      },
      "outputs": [
        {
          "output_type": "stream",
          "name": "stdout",
          "text": [
            "      Name  Age         City  Marks\n",
            "0    Alice   18     New York     67\n",
            "1      Bob   17  Los Angeles     96\n",
            "2  Charlie   19      Chicago     55\n",
            "3    David   18      Houston     21\n",
            "4      Eve   17        Miami     54\n",
            "\n",
            "Missing values:\n",
            " Name     0\n",
            "Age      0\n",
            "City     0\n",
            "Marks    0\n",
            "dtype: int64\n",
            "\n",
            "Description:\n",
            "              Age      Marks\n",
            "count  10.000000  10.000000\n",
            "mean   18.000000  57.600000\n",
            "std     0.816497  29.394633\n",
            "min    17.000000  12.000000\n",
            "25%    17.250000  38.250000\n",
            "50%    18.000000  56.000000\n",
            "75%    18.750000  83.500000\n",
            "max    19.000000  96.000000\n",
            "\n",
            "Correlation:\n",
            " <bound method DataFrame.corr of       Name  Age           City  Marks\n",
            "0    Alice   18       New York     67\n",
            "1      Bob   17    Los Angeles     96\n",
            "2  Charlie   19        Chicago     55\n",
            "3    David   18        Houston     21\n",
            "4      Eve   17          Miami     54\n",
            "5    Frank   18  San Francisco     33\n",
            "6    Grace   19        Seattle     12\n",
            "7     Hank   18         Boston     57\n",
            "8      Ivy   17         Dallas     89\n",
            "9     Jack   19        Atlanta     92>\n",
            "\n",
            "Correlation with Age:\n",
            " -0.3703608447509773\n"
          ]
        }
      ],
      "source": [
        "# Create dataset\n",
        "data = {\n",
        "    \"Name\": [\"Alice\", \"Bob\", \"Charlie\", \"David\", \"Eve\", \"Frank\", \"Grace\", \"Hank\", \"Ivy\", \"Jack\"],\n",
        "    \"Age\": [18, 17, 19, 18, 17, 18, 19, 18, 17, 19],\n",
        "    \"City\": [\"New York\", \"Los Angeles\", \"Chicago\", \"Houston\", \"Miami\", \"San Francisco\", \"Seattle\", \"Boston\", \"Dallas\", \"Atlanta\"],\n",
        "    \"Marks\": [67, 96, 55, 21, 54, 33, 12, 57, 89, 92],\n",
        "}\n",
        "df = pd.DataFrame(data)\n",
        "\n",
        "#save to CSV file\n",
        "df.to_csv(\"mydata.csv\", index=False)\n",
        "print(df.head())\n",
        "print(\"\\nMissing values:\\n\", df.isnull().sum())\n",
        "print(\"\\nDescription:\\n\", df.describe())\n",
        "\n",
        "# Correlation\n",
        "print(\"\\nCorrelation:\\n\", df.corr)\n",
        "print(\"\\nCorrelation with Age:\\n\", df[\"Age\"].corr(df[\"Marks\"]))"
      ]
    },
    {
      "cell_type": "markdown",
      "metadata": {
        "id": "B1ElYoeWhpm7"
      },
      "source": [
        "## 🔹 4. Visualization – Seeing the Data\n",
        "Visualizing data helps us quickly identify patterns and relationships."
      ]
    },
    {
      "cell_type": "code",
      "execution_count": null,
      "metadata": {
        "id": "bjozMlhNhpm7",
        "colab": {
          "base_uri": "https://localhost:8080/",
          "height": 907
        },
        "outputId": "2e00a824-5845-482c-e161-13775911faef"
      },
      "outputs": [
        {
          "output_type": "display_data",
          "data": {
            "text/plain": [
              "<Figure size 640x480 with 1 Axes>"
            ],
            "image/png": "[encoded data removed]"
          },
          "metadata": {}
        },
        {
          "output_type": "display_data",
          "data": {
            "text/plain": [
              "<Figure size 640x480 with 1 Axes>"
            ],
            "image/png": "[encoded data removed]"
          },
          "metadata": {}
        }
      ],
      "source": [
        "import matplotlib.pyplot as plt\n",
        "\n",
        "# Scatter plot (Age vs Marks)\n",
        "plt.scatter(df['Age'], df['Marks'], color='blue')\n",
        "plt.title(\"Age vs Marks\")\n",
        "plt.xlabel(\"Age\")\n",
        "plt.ylabel(\"Marks\")\n",
        "plt.show()\n",
        "\n",
        "# Histogram of Marks\n",
        "df['Marks'].hist(bins=10, color='orange')\n",
        "plt.title(\"Marks Distribution\")\n",
        "plt.show()"
      ]
    },
    {
      "cell_type": "markdown",
      "metadata": {
        "id": "li0M4d8Mhpm8"
      },
      "source": [
        "## ✅ Wrap-Up\n",
        "- Pandas → Explore datasets\n",
        "- NumPy → Fast math operations\n",
        "- Real dataset exploration\n",
        "- Visualization → See patterns\n",
        "\n",
        "👉 Next session: **Data Preprocessing & Cleaning** (handling missing values, encoding categorical data, scaling)."
      ]
    }
  ],
  "metadata": {
    "kernelspec": {
      "display_name": "Python 3",
      "language": "python",
      "name": "python3"
    },
    "language_info": {
      "name": "python",
      "version": "3.10"
    },
    "colab": {
      "provenance": []
    }
  },
  "nbformat": 4,
  "nbformat_minor": 0
}