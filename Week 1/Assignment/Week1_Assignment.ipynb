{
  "cells": [
    {
      "cell_type": "markdown",
      "metadata": {},
      "source": [
        "#Week 1 Assignment questions"
      ]
    },
    {
      "cell_type": "markdown",
      "metadata": {},
      "source": [
        "1. Create a Pandas DataFrame from a dictionary containing Name, Age, Marks of at least 5 students. Print the first 5 rows.\n",
        "2. Print the following information about your DataFrame: Number of rows & columns,Column names and Data types.\n",
        "3. Create a NumPy array [5, 10, 15, 20, 25]. Find and print: Mean, Median, Standard deviation and Square of each element.\n",
        "4. From the Student dataset, print only the Name and Marks columns.\n",
        "5. From the dataset, print the names of students who scored more than 50 marks.\n",
        "6. Create a bar chart of student Names vs Marks using Matplotlib.\n",
        "7. Save your Student dataset into a CSV file using Pandas. Then load it again and print the first 3 rows.\n",
        "8. Calculate the correlation between Age and Marks in your dataset. Print the result.\n",
        "9. Plot a histogram of the Marks column. Add title, xlabel, and ylabel properly.\n",
        "10. Find the student with the highest marks in the dataset. Print their name and marks."
        "this is for testing purpose"
      ]
    }
  ],
  "metadata": {
    "colab": {
      "provenance": []
    },
    "kernelspec": {
      "display_name": "Python 3",
      "language": "python",
      "name": "python3"
    },
    "language_info": {
      "name": "python",
      "version": "3.10"
    }
  },
  "nbformat": 4,
  "nbformat_minor": 0
}
