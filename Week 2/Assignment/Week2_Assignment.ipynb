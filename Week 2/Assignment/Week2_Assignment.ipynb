{
  "cells": [
    {
      "cell_type": "markdown",
      "metadata": {},
      "source": [
        "#Week 1 Assignment questions"
      ]
    },
    {
      "cell_type": "markdown",
      "metadata": {},
      "source": [
        "1. Load the messy_songs_dataset.csv file using Pandas. Print the first 5 rows, the column names, and data types.\n",
        "2. Check for missing values in the dataset. Print how many null values each column has.\n",
        "3. Find and print the number of duplicate rows in the dataset.\n",
        "4. Print all the unique values from the Language column.\n",
        "5. Convert all the Language column values to lowercase and remove extra spaces.\n",
        "6. Replace all missing values in the Streams column with the mean of the column.\n",
        "7. Clean the Rating column by removing non-numeric characters (like \"*\"). Convert it into float type.\n",
        "8. Drop all duplicate rows from the dataset and print the new shape of the DataFrame.\n",
        "9. Create a countplot of songs grouped by Language using Seaborn. Rotate the x-axis labels if needed.\n",
        "10. Encode the Language column into numbers using Label Encoding (scikit-learn). Print first 10 rows after encoding.\n",
        "11. Split the dataset into train and test (80–20) and print the shapes of X_train, X_test, y_train, y_test.\n",
        "12. Build a Linear Regression model to predict Streams from Rating. Print the Mean Squared Error (MSE)."
      ]
    }
  ],
  "metadata": {
    "colab": {
      "provenance": []
    },
    "kernelspec": {
      "display_name": "Python 3",
      "language": "python",
      "name": "python3"
    },
    "language_info": {
      "name": "python",
      "version": "3.10"
    }
  },
  "nbformat": 4,
  "nbformat_minor": 0
}
